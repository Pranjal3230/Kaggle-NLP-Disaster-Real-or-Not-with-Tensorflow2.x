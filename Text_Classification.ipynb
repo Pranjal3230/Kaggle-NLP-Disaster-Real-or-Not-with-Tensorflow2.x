{
  "nbformat": 4,
  "nbformat_minor": 0,
  "metadata": {
    "colab": {
      "name": "Text_Classification.ipynb",
      "provenance": [],
      "collapsed_sections": [],
      "authorship_tag": "ABX9TyPG6znV1QVVgRGmY6XkZB38",
      "include_colab_link": true
    },
    "kernelspec": {
      "name": "python3",
      "display_name": "Python 3"
    }
  },
  "cells": [
    {
      "cell_type": "markdown",
      "metadata": {
        "id": "view-in-github",
        "colab_type": "text"
      },
      "source": [
        "<a href=\"https://colab.research.google.com/github/Pranjal3230/Kaggle-NLP-Disaster-Real-or-Not-with-Tensorflow2.x/blob/master/Text_Classification.ipynb\" target=\"_parent\"><img src=\"https://colab.research.google.com/assets/colab-badge.svg\" alt=\"Open In Colab\"/></a>"
      ]
    },
    {
      "cell_type": "code",
      "metadata": {
        "id": "v5k3VT-d0V_E",
        "colab_type": "code",
        "outputId": "151561fc-4da9-42d9-b96a-86dcabad323d",
        "colab": {
          "base_uri": "https://localhost:8080/",
          "height": 1000
        }
      },
      "source": [
        "!pip install tensorflow==2.1.0\n"
      ],
      "execution_count": 0,
      "outputs": [
        {
          "output_type": "stream",
          "text": [
            "Collecting tensorflow==2.1.0\n",
            "\u001b[?25l  Downloading https://files.pythonhosted.org/packages/85/d4/c0cd1057b331bc38b65478302114194bd8e1b9c2bbc06e300935c0e93d90/tensorflow-2.1.0-cp36-cp36m-manylinux2010_x86_64.whl (421.8MB)\n",
            "\u001b[K     |████████████████████████████████| 421.8MB 39kB/s \n",
            "\u001b[?25hRequirement already satisfied: wheel>=0.26; python_version >= \"3\" in /usr/local/lib/python3.6/dist-packages (from tensorflow==2.1.0) (0.34.2)\n",
            "Requirement already satisfied: scipy==1.4.1; python_version >= \"3\" in /usr/local/lib/python3.6/dist-packages (from tensorflow==2.1.0) (1.4.1)\n",
            "Collecting tensorboard<2.2.0,>=2.1.0\n",
            "\u001b[?25l  Downloading https://files.pythonhosted.org/packages/d9/41/bbf49b61370e4f4d245d4c6051dfb6db80cec672605c91b1652ac8cc3d38/tensorboard-2.1.1-py3-none-any.whl (3.8MB)\n",
            "\u001b[K     |████████████████████████████████| 3.9MB 44.6MB/s \n",
            "\u001b[?25hRequirement already satisfied: six>=1.12.0 in /usr/local/lib/python3.6/dist-packages (from tensorflow==2.1.0) (1.12.0)\n",
            "Requirement already satisfied: absl-py>=0.7.0 in /usr/local/lib/python3.6/dist-packages (from tensorflow==2.1.0) (0.9.0)\n",
            "Requirement already satisfied: keras-preprocessing>=1.1.0 in /usr/local/lib/python3.6/dist-packages (from tensorflow==2.1.0) (1.1.0)\n",
            "Requirement already satisfied: google-pasta>=0.1.6 in /usr/local/lib/python3.6/dist-packages (from tensorflow==2.1.0) (0.2.0)\n",
            "Requirement already satisfied: numpy<2.0,>=1.16.0 in /usr/local/lib/python3.6/dist-packages (from tensorflow==2.1.0) (1.18.2)\n",
            "Requirement already satisfied: keras-applications>=1.0.8 in /usr/local/lib/python3.6/dist-packages (from tensorflow==2.1.0) (1.0.8)\n",
            "Requirement already satisfied: termcolor>=1.1.0 in /usr/local/lib/python3.6/dist-packages (from tensorflow==2.1.0) (1.1.0)\n",
            "Requirement already satisfied: wrapt>=1.11.1 in /usr/local/lib/python3.6/dist-packages (from tensorflow==2.1.0) (1.12.1)\n",
            "Requirement already satisfied: protobuf>=3.8.0 in /usr/local/lib/python3.6/dist-packages (from tensorflow==2.1.0) (3.10.0)\n",
            "Requirement already satisfied: opt-einsum>=2.3.2 in /usr/local/lib/python3.6/dist-packages (from tensorflow==2.1.0) (3.2.0)\n",
            "Requirement already satisfied: grpcio>=1.8.6 in /usr/local/lib/python3.6/dist-packages (from tensorflow==2.1.0) (1.28.1)\n",
            "Collecting tensorflow-estimator<2.2.0,>=2.1.0rc0\n",
            "\u001b[?25l  Downloading https://files.pythonhosted.org/packages/18/90/b77c328a1304437ab1310b463e533fa7689f4bfc41549593056d812fab8e/tensorflow_estimator-2.1.0-py2.py3-none-any.whl (448kB)\n",
            "\u001b[K     |████████████████████████████████| 450kB 43.2MB/s \n",
            "\u001b[?25hCollecting gast==0.2.2\n",
            "  Downloading https://files.pythonhosted.org/packages/4e/35/11749bf99b2d4e3cceb4d55ca22590b0d7c2c62b9de38ac4a4a7f4687421/gast-0.2.2.tar.gz\n",
            "Requirement already satisfied: astor>=0.6.0 in /usr/local/lib/python3.6/dist-packages (from tensorflow==2.1.0) (0.8.1)\n",
            "Requirement already satisfied: setuptools>=41.0.0 in /usr/local/lib/python3.6/dist-packages (from tensorboard<2.2.0,>=2.1.0->tensorflow==2.1.0) (46.1.3)\n",
            "Requirement already satisfied: markdown>=2.6.8 in /usr/local/lib/python3.6/dist-packages (from tensorboard<2.2.0,>=2.1.0->tensorflow==2.1.0) (3.2.1)\n",
            "Requirement already satisfied: google-auth-oauthlib<0.5,>=0.4.1 in /usr/local/lib/python3.6/dist-packages (from tensorboard<2.2.0,>=2.1.0->tensorflow==2.1.0) (0.4.1)\n",
            "Requirement already satisfied: requests<3,>=2.21.0 in /usr/local/lib/python3.6/dist-packages (from tensorboard<2.2.0,>=2.1.0->tensorflow==2.1.0) (2.21.0)\n",
            "Requirement already satisfied: google-auth<2,>=1.6.3 in /usr/local/lib/python3.6/dist-packages (from tensorboard<2.2.0,>=2.1.0->tensorflow==2.1.0) (1.7.2)\n",
            "Requirement already satisfied: werkzeug>=0.11.15 in /usr/local/lib/python3.6/dist-packages (from tensorboard<2.2.0,>=2.1.0->tensorflow==2.1.0) (1.0.1)\n",
            "Requirement already satisfied: h5py in /usr/local/lib/python3.6/dist-packages (from keras-applications>=1.0.8->tensorflow==2.1.0) (2.10.0)\n",
            "Requirement already satisfied: requests-oauthlib>=0.7.0 in /usr/local/lib/python3.6/dist-packages (from google-auth-oauthlib<0.5,>=0.4.1->tensorboard<2.2.0,>=2.1.0->tensorflow==2.1.0) (1.3.0)\n",
            "Requirement already satisfied: idna<2.9,>=2.5 in /usr/local/lib/python3.6/dist-packages (from requests<3,>=2.21.0->tensorboard<2.2.0,>=2.1.0->tensorflow==2.1.0) (2.8)\n",
            "Requirement already satisfied: urllib3<1.25,>=1.21.1 in /usr/local/lib/python3.6/dist-packages (from requests<3,>=2.21.0->tensorboard<2.2.0,>=2.1.0->tensorflow==2.1.0) (1.24.3)\n",
            "Requirement already satisfied: certifi>=2017.4.17 in /usr/local/lib/python3.6/dist-packages (from requests<3,>=2.21.0->tensorboard<2.2.0,>=2.1.0->tensorflow==2.1.0) (2020.4.5.1)\n",
            "Requirement already satisfied: chardet<3.1.0,>=3.0.2 in /usr/local/lib/python3.6/dist-packages (from requests<3,>=2.21.0->tensorboard<2.2.0,>=2.1.0->tensorflow==2.1.0) (3.0.4)\n",
            "Requirement already satisfied: rsa<4.1,>=3.1.4 in /usr/local/lib/python3.6/dist-packages (from google-auth<2,>=1.6.3->tensorboard<2.2.0,>=2.1.0->tensorflow==2.1.0) (4.0)\n",
            "Requirement already satisfied: pyasn1-modules>=0.2.1 in /usr/local/lib/python3.6/dist-packages (from google-auth<2,>=1.6.3->tensorboard<2.2.0,>=2.1.0->tensorflow==2.1.0) (0.2.8)\n",
            "Requirement already satisfied: cachetools<3.2,>=2.0.0 in /usr/local/lib/python3.6/dist-packages (from google-auth<2,>=1.6.3->tensorboard<2.2.0,>=2.1.0->tensorflow==2.1.0) (3.1.1)\n",
            "Requirement already satisfied: oauthlib>=3.0.0 in /usr/local/lib/python3.6/dist-packages (from requests-oauthlib>=0.7.0->google-auth-oauthlib<0.5,>=0.4.1->tensorboard<2.2.0,>=2.1.0->tensorflow==2.1.0) (3.1.0)\n",
            "Requirement already satisfied: pyasn1>=0.1.3 in /usr/local/lib/python3.6/dist-packages (from rsa<4.1,>=3.1.4->google-auth<2,>=1.6.3->tensorboard<2.2.0,>=2.1.0->tensorflow==2.1.0) (0.4.8)\n",
            "Building wheels for collected packages: gast\n",
            "  Building wheel for gast (setup.py) ... \u001b[?25l\u001b[?25hdone\n",
            "  Created wheel for gast: filename=gast-0.2.2-cp36-none-any.whl size=7540 sha256=384215076ec3ebebced63ded0d41ab087cc240ec019c6600f1b62bedff6f4cb9\n",
            "  Stored in directory: /root/.cache/pip/wheels/5c/2e/7e/a1d4d4fcebe6c381f378ce7743a3ced3699feb89bcfbdadadd\n",
            "Successfully built gast\n",
            "Installing collected packages: tensorboard, tensorflow-estimator, gast, tensorflow\n",
            "  Found existing installation: tensorboard 2.2.0\n",
            "    Uninstalling tensorboard-2.2.0:\n",
            "      Successfully uninstalled tensorboard-2.2.0\n",
            "  Found existing installation: tensorflow-estimator 2.2.0rc0\n",
            "    Uninstalling tensorflow-estimator-2.2.0rc0:\n",
            "      Successfully uninstalled tensorflow-estimator-2.2.0rc0\n",
            "  Found existing installation: gast 0.3.3\n",
            "    Uninstalling gast-0.3.3:\n",
            "      Successfully uninstalled gast-0.3.3\n",
            "  Found existing installation: tensorflow 2.2.0rc2\n",
            "    Uninstalling tensorflow-2.2.0rc2:\n",
            "      Successfully uninstalled tensorflow-2.2.0rc2\n",
            "Successfully installed gast-0.2.2 tensorboard-2.1.1 tensorflow-2.1.0 tensorflow-estimator-2.1.0\n"
          ],
          "name": "stdout"
        }
      ]
    },
    {
      "cell_type": "code",
      "metadata": {
        "id": "L35rpEhK0gIF",
        "colab_type": "code",
        "outputId": "ae92f305-98d9-42fc-be5f-6f7e16b025ec",
        "colab": {
          "base_uri": "https://localhost:8080/",
          "height": 88
        }
      },
      "source": [
        "import tensorflow as tf\n",
        "from tensorflow.keras import regularizers\n",
        "from tensorflow import keras\n",
        "import pandas as pd\n",
        "import seaborn as sns\n",
        "import numpy as np\n",
        "import matplotlib.pyplot as plt\n",
        "import scipy as sp\n",
        "from __future__ import absolute_import, division, print_function, unicode_literals\n",
        "from keras.callbacks import TensorBoard\n",
        "# Load the TensorBoard notebook extension\n",
        "import datetime\n",
        "import time\n",
        "\n",
        "from tensorflow import feature_column\n",
        "from tensorflow.keras import layers\n",
        "from sklearn.model_selection import train_test_split\n",
        "\n",
        "import os"
      ],
      "execution_count": 0,
      "outputs": [
        {
          "output_type": "stream",
          "text": [
            "/usr/local/lib/python3.6/dist-packages/statsmodels/tools/_testing.py:19: FutureWarning: pandas.util.testing is deprecated. Use the functions in the public API at pandas.testing instead.\n",
            "  import pandas.util.testing as tm\n",
            "Using TensorFlow backend.\n"
          ],
          "name": "stderr"
        }
      ]
    },
    {
      "cell_type": "code",
      "metadata": {
        "id": "DDsgcGQf0nEe",
        "colab_type": "code",
        "colab": {}
      },
      "source": [
        "%load_ext tensorboard"
      ],
      "execution_count": 0,
      "outputs": []
    },
    {
      "cell_type": "code",
      "metadata": {
        "id": "zjpA3vPW0qwS",
        "colab_type": "code",
        "colab": {}
      },
      "source": [
        "# Clear any logs from previous runs\n",
        "!rm -rf ./logs/ "
      ],
      "execution_count": 0,
      "outputs": []
    },
    {
      "cell_type": "code",
      "metadata": {
        "id": "ES2jZ4ZwzEGf",
        "colab_type": "code",
        "colab": {}
      },
      "source": [
        "\n",
        "df=pd.read_csv(\"train.csv\")\n",
        "df1=pd.read_csv(\"test.csv\")"
      ],
      "execution_count": 0,
      "outputs": []
    },
    {
      "cell_type": "code",
      "metadata": {
        "id": "YvBtkk650G4_",
        "colab_type": "code",
        "colab": {}
      },
      "source": [
        "df3=pd.read_csv(\"sample_submission.csv\")"
      ],
      "execution_count": 0,
      "outputs": []
    },
    {
      "cell_type": "code",
      "metadata": {
        "id": "pFOhuSW30Pm8",
        "colab_type": "code",
        "outputId": "c6b0feea-6782-40da-bcd7-5f3ffe8d97eb",
        "colab": {
          "base_uri": "https://localhost:8080/",
          "height": 204
        }
      },
      "source": [
        "df.head()"
      ],
      "execution_count": 0,
      "outputs": [
        {
          "output_type": "execute_result",
          "data": {
            "text/html": [
              "<div>\n",
              "<style scoped>\n",
              "    .dataframe tbody tr th:only-of-type {\n",
              "        vertical-align: middle;\n",
              "    }\n",
              "\n",
              "    .dataframe tbody tr th {\n",
              "        vertical-align: top;\n",
              "    }\n",
              "\n",
              "    .dataframe thead th {\n",
              "        text-align: right;\n",
              "    }\n",
              "</style>\n",
              "<table border=\"1\" class=\"dataframe\">\n",
              "  <thead>\n",
              "    <tr style=\"text-align: right;\">\n",
              "      <th></th>\n",
              "      <th>id</th>\n",
              "      <th>keyword</th>\n",
              "      <th>location</th>\n",
              "      <th>text</th>\n",
              "      <th>target</th>\n",
              "    </tr>\n",
              "  </thead>\n",
              "  <tbody>\n",
              "    <tr>\n",
              "      <th>0</th>\n",
              "      <td>1</td>\n",
              "      <td>NaN</td>\n",
              "      <td>NaN</td>\n",
              "      <td>Our Deeds are the Reason of this #earthquake M...</td>\n",
              "      <td>1</td>\n",
              "    </tr>\n",
              "    <tr>\n",
              "      <th>1</th>\n",
              "      <td>4</td>\n",
              "      <td>NaN</td>\n",
              "      <td>NaN</td>\n",
              "      <td>Forest fire near La Ronge Sask. Canada</td>\n",
              "      <td>1</td>\n",
              "    </tr>\n",
              "    <tr>\n",
              "      <th>2</th>\n",
              "      <td>5</td>\n",
              "      <td>NaN</td>\n",
              "      <td>NaN</td>\n",
              "      <td>All residents asked to 'shelter in place' are ...</td>\n",
              "      <td>1</td>\n",
              "    </tr>\n",
              "    <tr>\n",
              "      <th>3</th>\n",
              "      <td>6</td>\n",
              "      <td>NaN</td>\n",
              "      <td>NaN</td>\n",
              "      <td>13,000 people receive #wildfires evacuation or...</td>\n",
              "      <td>1</td>\n",
              "    </tr>\n",
              "    <tr>\n",
              "      <th>4</th>\n",
              "      <td>7</td>\n",
              "      <td>NaN</td>\n",
              "      <td>NaN</td>\n",
              "      <td>Just got sent this photo from Ruby #Alaska as ...</td>\n",
              "      <td>1</td>\n",
              "    </tr>\n",
              "  </tbody>\n",
              "</table>\n",
              "</div>"
            ],
            "text/plain": [
              "   id keyword  ...                                               text target\n",
              "0   1     NaN  ...  Our Deeds are the Reason of this #earthquake M...      1\n",
              "1   4     NaN  ...             Forest fire near La Ronge Sask. Canada      1\n",
              "2   5     NaN  ...  All residents asked to 'shelter in place' are ...      1\n",
              "3   6     NaN  ...  13,000 people receive #wildfires evacuation or...      1\n",
              "4   7     NaN  ...  Just got sent this photo from Ruby #Alaska as ...      1\n",
              "\n",
              "[5 rows x 5 columns]"
            ]
          },
          "metadata": {
            "tags": []
          },
          "execution_count": 6
        }
      ]
    },
    {
      "cell_type": "code",
      "metadata": {
        "id": "4Qx2n38B0ShR",
        "colab_type": "code",
        "outputId": "166e0791-c373-4fc6-f6c2-230100084a13",
        "colab": {
          "base_uri": "https://localhost:8080/",
          "height": 119
        }
      },
      "source": [
        "df.isnull().sum()"
      ],
      "execution_count": 0,
      "outputs": [
        {
          "output_type": "execute_result",
          "data": {
            "text/plain": [
              "id             0\n",
              "keyword       61\n",
              "location    2533\n",
              "text           0\n",
              "target         0\n",
              "dtype: int64"
            ]
          },
          "metadata": {
            "tags": []
          },
          "execution_count": 7
        }
      ]
    },
    {
      "cell_type": "code",
      "metadata": {
        "id": "glDTCDDr0aFl",
        "colab_type": "code",
        "outputId": "b001d52c-eec0-4b5c-ab6a-6e355f89255a",
        "colab": {
          "base_uri": "https://localhost:8080/",
          "height": 102
        }
      },
      "source": [
        "df1.isnull().sum()"
      ],
      "execution_count": 0,
      "outputs": [
        {
          "output_type": "execute_result",
          "data": {
            "text/plain": [
              "id             0\n",
              "keyword       26\n",
              "location    1105\n",
              "text           0\n",
              "dtype: int64"
            ]
          },
          "metadata": {
            "tags": []
          },
          "execution_count": 8
        }
      ]
    },
    {
      "cell_type": "code",
      "metadata": {
        "id": "TzopIBB508LB",
        "colab_type": "code",
        "outputId": "651d6bcd-5aa2-423f-9552-1d24b19474c0",
        "colab": {
          "base_uri": "https://localhost:8080/",
          "height": 297
        }
      },
      "source": [
        "df.describe()"
      ],
      "execution_count": 0,
      "outputs": [
        {
          "output_type": "execute_result",
          "data": {
            "text/html": [
              "<div>\n",
              "<style scoped>\n",
              "    .dataframe tbody tr th:only-of-type {\n",
              "        vertical-align: middle;\n",
              "    }\n",
              "\n",
              "    .dataframe tbody tr th {\n",
              "        vertical-align: top;\n",
              "    }\n",
              "\n",
              "    .dataframe thead th {\n",
              "        text-align: right;\n",
              "    }\n",
              "</style>\n",
              "<table border=\"1\" class=\"dataframe\">\n",
              "  <thead>\n",
              "    <tr style=\"text-align: right;\">\n",
              "      <th></th>\n",
              "      <th>id</th>\n",
              "      <th>target</th>\n",
              "    </tr>\n",
              "  </thead>\n",
              "  <tbody>\n",
              "    <tr>\n",
              "      <th>count</th>\n",
              "      <td>7613.000000</td>\n",
              "      <td>7613.00000</td>\n",
              "    </tr>\n",
              "    <tr>\n",
              "      <th>mean</th>\n",
              "      <td>5441.934848</td>\n",
              "      <td>0.42966</td>\n",
              "    </tr>\n",
              "    <tr>\n",
              "      <th>std</th>\n",
              "      <td>3137.116090</td>\n",
              "      <td>0.49506</td>\n",
              "    </tr>\n",
              "    <tr>\n",
              "      <th>min</th>\n",
              "      <td>1.000000</td>\n",
              "      <td>0.00000</td>\n",
              "    </tr>\n",
              "    <tr>\n",
              "      <th>25%</th>\n",
              "      <td>2734.000000</td>\n",
              "      <td>0.00000</td>\n",
              "    </tr>\n",
              "    <tr>\n",
              "      <th>50%</th>\n",
              "      <td>5408.000000</td>\n",
              "      <td>0.00000</td>\n",
              "    </tr>\n",
              "    <tr>\n",
              "      <th>75%</th>\n",
              "      <td>8146.000000</td>\n",
              "      <td>1.00000</td>\n",
              "    </tr>\n",
              "    <tr>\n",
              "      <th>max</th>\n",
              "      <td>10873.000000</td>\n",
              "      <td>1.00000</td>\n",
              "    </tr>\n",
              "  </tbody>\n",
              "</table>\n",
              "</div>"
            ],
            "text/plain": [
              "                 id      target\n",
              "count   7613.000000  7613.00000\n",
              "mean    5441.934848     0.42966\n",
              "std     3137.116090     0.49506\n",
              "min        1.000000     0.00000\n",
              "25%     2734.000000     0.00000\n",
              "50%     5408.000000     0.00000\n",
              "75%     8146.000000     1.00000\n",
              "max    10873.000000     1.00000"
            ]
          },
          "metadata": {
            "tags": []
          },
          "execution_count": 9
        }
      ]
    },
    {
      "cell_type": "code",
      "metadata": {
        "id": "QlWOMI0N1luV",
        "colab_type": "code",
        "outputId": "d49ba88e-381f-4724-b8b9-2fbdc771be23",
        "colab": {
          "base_uri": "https://localhost:8080/",
          "height": 282
        }
      },
      "source": [
        "sns.heatmap(df.isnull(),yticklabels=False,cbar=False)"
      ],
      "execution_count": 0,
      "outputs": [
        {
          "output_type": "execute_result",
          "data": {
            "text/plain": [
              "<matplotlib.axes._subplots.AxesSubplot at 0x7fdb1d213be0>"
            ]
          },
          "metadata": {
            "tags": []
          },
          "execution_count": 10
        },
        {
          "output_type": "display_data",
          "data": {
            "image/png": "[encoded data removed]",
            "text/plain": [
              "<Figure size 432x288 with 1 Axes>"
            ]
          },
          "metadata": {
            "tags": [],
            "needs_background": "light"
          }
        }
      ]
    },
    {
      "cell_type": "code",
      "metadata": {
        "id": "uVpG-OVW0_er",
        "colab_type": "code",
        "outputId": "0f7dbc99-ce10-47b9-de02-7a7a4a765abd",
        "colab": {
          "base_uri": "https://localhost:8080/",
          "height": 282
        }
      },
      "source": [
        "sns.heatmap(df1.isnull(),yticklabels=False,cbar=False)"
      ],
      "execution_count": 0,
      "outputs": [
        {
          "output_type": "execute_result",
          "data": {
            "text/plain": [
              "<matplotlib.axes._subplots.AxesSubplot at 0x7fdb196f09b0>"
            ]
          },
          "metadata": {
            "tags": []
          },
          "execution_count": 11
        },
        {
          "output_type": "display_data",
          "data": {
            "image/png": "[encoded data removed]",
            "text/plain": [
              "<Figure size 432x288 with 1 Axes>"
            ]
          },
          "metadata": {
            "tags": [],
            "needs_background": "light"
          }
        }
      ]
    },
    {
      "cell_type": "code",
      "metadata": {
        "id": "Xo6cjNKs1s9A",
        "colab_type": "code",
        "colab": {}
      },
      "source": [
        "df['keyword'].fillna(df['keyword'].mode()[0], inplace=True)\n",
        "df1['keyword'].fillna(df1['keyword'].mode()[0], inplace=True)"
      ],
      "execution_count": 0,
      "outputs": []
    },
    {
      "cell_type": "code",
      "metadata": {
        "id": "B0JHm_hG37rP",
        "colab_type": "code",
        "outputId": "8cd1f0f2-8b8c-4df3-82d1-acce33050c47",
        "colab": {
          "base_uri": "https://localhost:8080/",
          "height": 34
        }
      },
      "source": [
        "print(df['location'].mode()[0])"
      ],
      "execution_count": 0,
      "outputs": [
        {
          "output_type": "stream",
          "text": [
            "USA\n"
          ],
          "name": "stdout"
        }
      ]
    },
    {
      "cell_type": "code",
      "metadata": {
        "id": "n58nJfpt13Fw",
        "colab_type": "code",
        "colab": {}
      },
      "source": [
        "df['location'].fillna(df['location'].mode()[0], inplace=True)\n",
        "df1['location'].fillna(df1['location'].mode()[0], inplace=True)\n"
      ],
      "execution_count": 0,
      "outputs": []
    },
    {
      "cell_type": "code",
      "metadata": {
        "id": "uBuCVWtt2K9e",
        "colab_type": "code",
        "outputId": "484f5f68-b46f-4362-90fa-2b7dfb5b6771",
        "colab": {
          "base_uri": "https://localhost:8080/",
          "height": 282
        }
      },
      "source": [
        "sns.heatmap(df.isnull(),yticklabels=False,cbar=False)"
      ],
      "execution_count": 0,
      "outputs": [
        {
          "output_type": "execute_result",
          "data": {
            "text/plain": [
              "<matplotlib.axes._subplots.AxesSubplot at 0x7fdb19705ba8>"
            ]
          },
          "metadata": {
            "tags": []
          },
          "execution_count": 15
        },
        {
          "output_type": "display_data",
          "data": {
            "image/png": "[encoded data removed]",
            "text/plain": [
              "<Figure size 432x288 with 1 Axes>"
            ]
          },
          "metadata": {
            "tags": [],
            "needs_background": "light"
          }
        }
      ]
    },
    {
      "cell_type": "code",
      "metadata": {
        "id": "ChBI216muZP7",
        "colab_type": "code",
        "colab": {}
      },
      "source": [
        ""
      ],
      "execution_count": 0,
      "outputs": []
    },
    {
      "cell_type": "code",
      "metadata": {
        "id": "MImuMCzS2M0G",
        "colab_type": "code",
        "outputId": "a3666e44-033b-4c1d-9743-fb9f83435c9a",
        "colab": {
          "base_uri": "https://localhost:8080/",
          "height": 102
        }
      },
      "source": [
        "df1.isnull().sum()"
      ],
      "execution_count": 0,
      "outputs": [
        {
          "output_type": "execute_result",
          "data": {
            "text/plain": [
              "id          0\n",
              "keyword     0\n",
              "location    0\n",
              "text        0\n",
              "dtype: int64"
            ]
          },
          "metadata": {
            "tags": []
          },
          "execution_count": 16
        }
      ]
    },
    {
      "cell_type": "code",
      "metadata": {
        "id": "PUTaFntn4laY",
        "colab_type": "code",
        "outputId": "1704d4c0-62f5-4e72-c515-522c3741ed3a",
        "colab": {
          "base_uri": "https://localhost:8080/",
          "height": 221
        }
      },
      "source": [
        "df.pop('id')\n",
        "df1.pop('id')"
      ],
      "execution_count": 0,
      "outputs": [
        {
          "output_type": "execute_result",
          "data": {
            "text/plain": [
              "0           0\n",
              "1           2\n",
              "2           3\n",
              "3           9\n",
              "4          11\n",
              "        ...  \n",
              "3258    10861\n",
              "3259    10865\n",
              "3260    10868\n",
              "3261    10874\n",
              "3262    10875\n",
              "Name: id, Length: 3263, dtype: int64"
            ]
          },
          "metadata": {
            "tags": []
          },
          "execution_count": 17
        }
      ]
    },
    {
      "cell_type": "code",
      "metadata": {
        "id": "UG_eUib449Is",
        "colab_type": "code",
        "outputId": "4fa000f8-f43b-4040-9dc5-6a74022791df",
        "colab": {
          "base_uri": "https://localhost:8080/",
          "height": 85
        }
      },
      "source": [
        "df1.isnull().sum()"
      ],
      "execution_count": 0,
      "outputs": [
        {
          "output_type": "execute_result",
          "data": {
            "text/plain": [
              "keyword     0\n",
              "location    0\n",
              "text        0\n",
              "dtype: int64"
            ]
          },
          "metadata": {
            "tags": []
          },
          "execution_count": 18
        }
      ]
    },
    {
      "cell_type": "code",
      "metadata": {
        "id": "rFPrYX-Tt3hB",
        "colab_type": "code",
        "colab": {}
      },
      "source": [
        ""
      ],
      "execution_count": 0,
      "outputs": []
    },
    {
      "cell_type": "code",
      "metadata": {
        "id": "yGMETP2f5Dta",
        "colab_type": "code",
        "colab": {}
      },
      "source": [
        "tr=df['text']\n",
        "tr1=df1['text']"
      ],
      "execution_count": 0,
      "outputs": []
    },
    {
      "cell_type": "code",
      "metadata": {
        "id": "52A0EsW4bgFH",
        "colab_type": "code",
        "colab": {}
      },
      "source": [
        "tar=df['target']"
      ],
      "execution_count": 0,
      "outputs": []
    },
    {
      "cell_type": "code",
      "metadata": {
        "id": "dyya4qjtbw3y",
        "colab_type": "code",
        "outputId": "0c73c727-f64b-4d69-df80-8e98356110be",
        "colab": {
          "base_uri": "https://localhost:8080/",
          "height": 34
        }
      },
      "source": [
        "sent=[]\n",
        "for sentence in tr:\n",
        "  sent.append(sentence)\n",
        "print(sent[0])"
      ],
      "execution_count": 0,
      "outputs": [
        {
          "output_type": "stream",
          "text": [
            "Our Deeds are the Reason of this #earthquake May ALLAH Forgive us all\n"
          ],
          "name": "stdout"
        }
      ]
    },
    {
      "cell_type": "code",
      "metadata": {
        "id": "qC6uJvcugKF9",
        "colab_type": "code",
        "outputId": "3a6072a6-c922-4ba3-b35e-639cfc52afec",
        "colab": {
          "base_uri": "https://localhost:8080/",
          "height": 34
        }
      },
      "source": [
        "sent1=[]\n",
        "for sentence in tr1:\n",
        "  sent1.append(sentence)\n",
        "print(sent1[0])"
      ],
      "execution_count": 0,
      "outputs": [
        {
          "output_type": "stream",
          "text": [
            "Just happened a terrible car crash\n"
          ],
          "name": "stdout"
        }
      ]
    },
    {
      "cell_type": "code",
      "metadata": {
        "id": "YJ2r27KCcDGP",
        "colab_type": "code",
        "outputId": "cc3af0b6-df23-452e-d10f-b9ac8036cbe1",
        "colab": {
          "base_uri": "https://localhost:8080/",
          "height": 34
        }
      },
      "source": [
        "label=[]\n",
        "for sentence in tar:\n",
        "  label.append(sentence)\n",
        "print(label[0])"
      ],
      "execution_count": 0,
      "outputs": [
        {
          "output_type": "stream",
          "text": [
            "1\n"
          ],
          "name": "stdout"
        }
      ]
    },
    {
      "cell_type": "code",
      "metadata": {
        "id": "N2UI31JfcXM5",
        "colab_type": "code",
        "outputId": "85f0ff43-7302-4058-8531-74ad6598ed5d",
        "colab": {
          "base_uri": "https://localhost:8080/",
          "height": 34
        }
      },
      "source": [
        "tokenizer = tf.keras.preprocessing.text.Tokenizer()\n",
        "tokenizer.fit_on_texts(sent)\n",
        "vocab_size = len(tokenizer.word_counts)\n",
        "print(\"vocabulary size: {:d}\".format(vocab_size))\n",
        "word2idx = tokenizer.word_index\n",
        "idx2word = {v:k for (k, v) in word2idx.items()}"
      ],
      "execution_count": 0,
      "outputs": [
        {
          "output_type": "stream",
          "text": [
            "vocabulary size: 22700\n"
          ],
          "name": "stdout"
        }
      ]
    },
    {
      "cell_type": "code",
      "metadata": {
        "id": "HrvmY4UUcmvv",
        "colab_type": "code",
        "outputId": "7a7715c8-00dc-4b99-dd31-95c1c58f3fc2",
        "colab": {
          "base_uri": "https://localhost:8080/",
          "height": 34
        }
      },
      "source": [
        "seq_lengths = np.array([len(s.split()) for s in sent])\n",
        "print([(p, np.percentile(seq_lengths, p)) for p\n",
        " in [75, 80, 90, 95, 99, 100]])"
      ],
      "execution_count": 0,
      "outputs": [
        {
          "output_type": "stream",
          "text": [
            "[(75, 19.0), (80, 20.0), (90, 22.0), (95, 24.0), (99, 27.0), (100, 31.0)]\n"
          ],
          "name": "stdout"
        }
      ]
    },
    {
      "cell_type": "code",
      "metadata": {
        "id": "kx57vtgdcxNo",
        "colab_type": "code",
        "colab": {}
      },
      "source": [
        "max_seqlen = 31\n",
        "# create dataset\n",
        "sentences_as_ints = tokenizer.texts_to_sequences(sent)\n",
        "sentences_as_ints = tf.keras.preprocessing.sequence.pad_sequences(\n",
        " sentences_as_ints, maxlen=max_seqlen)\n",
        "labels_as_ints = np.array(label)\n",
        "\n",
        "dataset = tf.data.Dataset.from_tensor_slices(\n",
        " (sentences_as_ints, labels_as_ints))\n"
      ],
      "execution_count": 0,
      "outputs": []
    },
    {
      "cell_type": "code",
      "metadata": {
        "id": "hXf6oeg9krl6",
        "colab_type": "code",
        "colab": {}
      },
      "source": [
        "label1=[]\n",
        "for i in range(len(sent1)):\n",
        "  label1.append(0)"
      ],
      "execution_count": 0,
      "outputs": []
    },
    {
      "cell_type": "code",
      "metadata": {
        "id": "p94QI5OMhnAv",
        "colab_type": "code",
        "colab": {}
      },
      "source": [
        "\n",
        "sentences_as_ints = tokenizer.texts_to_sequences(sent1)\n",
        "sentences_as_ints = tf.keras.preprocessing.sequence.pad_sequences(\n",
        " sentences_as_ints, maxlen=max_seqlen)\n",
        "labels_as_ints = np.array(label1)\n",
        "dataset1 = tf.data.Dataset.from_tensor_slices(\n",
        " (sentences_as_ints, labels_as_ints))"
      ],
      "execution_count": 0,
      "outputs": []
    },
    {
      "cell_type": "code",
      "metadata": {
        "id": "wdMGEkHzdTO5",
        "colab_type": "code",
        "outputId": "8b182218-962c-4c86-a177-4c536a63d066",
        "colab": {
          "base_uri": "https://localhost:8080/",
          "height": 68
        }
      },
      "source": [
        "\n",
        "\n",
        "dataset = dataset.shuffle(300)\n",
        "\n",
        "\n",
        "\n",
        "\n",
        "\n",
        "test_size = len(sent) // 5\n",
        "val_size = (len(sent)) // 7\n",
        "test_dataset = dataset.take(test_size)\n",
        "val_dataset = dataset.skip(test_size).take(val_size)\n",
        "train_dataset = dataset.skip( test_size + val_size)\n",
        "batch_size = 32\n",
        "train_dataset = train_dataset.batch(batch_size)\n",
        "val_dataset = val_dataset.batch(batch_size)\n",
        "test_dataset = test_dataset.batch(batch_size)\n",
        "print(val_size)\n",
        "print(len(sent))\n",
        "print(test_size)"
      ],
      "execution_count": 0,
      "outputs": [
        {
          "output_type": "stream",
          "text": [
            "1087\n",
            "7613\n",
            "1522\n"
          ],
          "name": "stdout"
        }
      ]
    },
    {
      "cell_type": "code",
      "metadata": {
        "id": "9CXNvhSqlaGh",
        "colab_type": "code",
        "colab": {}
      },
      "source": [
        "pred_dataset = dataset1.batch(batch_size)"
      ],
      "execution_count": 0,
      "outputs": []
    },
    {
      "cell_type": "code",
      "metadata": {
        "id": "gw4ldpCGd6P1",
        "colab_type": "code",
        "outputId": "1d8a4502-1133-4da7-b16e-02dcc7f6e32a",
        "colab": {
          "base_uri": "https://localhost:8080/",
          "height": 938
        }
      },
      "source": [
        "class SentimentAnalysisModel(tf.keras.Model):\n",
        "  def __init__(self, vocab_size, max_seqlen, **kwargs):\n",
        "    super(SentimentAnalysisModel, self).__init__(**kwargs)\n",
        "    self.embedding = tf.keras.layers.Embedding(\n",
        "    vocab_size, max_seqlen)\n",
        "    self.bilstm = tf.keras.layers.Bidirectional(\n",
        "    tf.keras.layers.LSTM(max_seqlen)\n",
        "    )\n",
        "    \n",
        "    self.dense = tf.keras.layers.Dense(64, activation=\"relu\")\n",
        "    \n",
        "    self.out = tf.keras.layers.Dense(1, activation=\"sigmoid\")\n",
        "  def call(self, x):\n",
        "    x = self.embedding(x)\n",
        "    x = self.bilstm(x)\n",
        "    x = self.dense(x)\n",
        "    x = self.out(x)\n",
        "    return x\n",
        "model = SentimentAnalysisModel(vocab_size+1, max_seqlen)\n",
        "model.build(input_shape=(batch_size, max_seqlen))\n",
        "model.summary()\n",
        "# compile\n",
        "model.compile(\n",
        " loss=\"binary_crossentropy\",\n",
        " optimizer=\"adam\",\n",
        " metrics=[\"accuracy\"]\n",
        ")\n",
        "data_dir = \"./\"\n",
        "logs_dir = os.path.join(\"./logs\")\n",
        "\n",
        "best_model_file = os.path.join(data_dir, \"best_model.h5\")\n",
        "checkpoint = tf.keras.callbacks.ModelCheckpoint(best_model_file,\n",
        " save_weights_only=True,\n",
        " save_best_only=True)\n",
        "tensorboard = tf.keras.callbacks.TensorBoard(log_dir=logs_dir)\n",
        "num_epochs = 10\n",
        "history = model.fit(train_dataset, epochs=num_epochs,\n",
        " validation_data=val_dataset,\n",
        " callbacks=[checkpoint, tensorboard])\n",
        "model = SentimentAnalysisModel(vocab_size+1, max_seqlen)\n",
        "model.build(input_shape=(batch_size, max_seqlen))\n",
        "model.summary()\n",
        "# compile\n"
      ],
      "execution_count": 0,
      "outputs": [
        {
          "output_type": "stream",
          "text": [
            "Model: \"sentiment_analysis_model_15\"\n",
            "_________________________________________________________________\n",
            "Layer (type)                 Output Shape              Param #   \n",
            "=================================================================\n",
            "embedding_15 (Embedding)     multiple                  703731    \n",
            "_________________________________________________________________\n",
            "bidirectional_15 (Bidirectio multiple                  15624     \n",
            "_________________________________________________________________\n",
            "dense_30 (Dense)             multiple                  4032      \n",
            "_________________________________________________________________\n",
            "dense_31 (Dense)             multiple                  65        \n",
            "=================================================================\n",
            "Total params: 723,452\n",
            "Trainable params: 723,452\n",
            "Non-trainable params: 0\n",
            "_________________________________________________________________\n",
            "Epoch 1/10\n",
            "  2/501 [..............................] - ETA: 1:09 - loss: 0.6936 - accuracy: 0.4500WARNING:tensorflow:Method (on_train_batch_end) is slow compared to the batch update (0.122382). Check your callbacks.\n",
            "501/501 [==============================] - 14s 29ms/step - loss: 0.5243 - accuracy: 0.7366 - val_loss: 0.4333 - val_accuracy: 0.8123\n",
            "Epoch 2/10\n",
            "501/501 [==============================] - 13s 27ms/step - loss: 0.2877 - accuracy: 0.8821 - val_loss: 0.3992 - val_accuracy: 0.8280\n",
            "Epoch 3/10\n",
            "501/501 [==============================] - 13s 27ms/step - loss: 0.1529 - accuracy: 0.9428 - val_loss: 0.4024 - val_accuracy: 0.8528\n",
            "Epoch 4/10\n",
            "501/501 [==============================] - 14s 27ms/step - loss: 0.0857 - accuracy: 0.9716 - val_loss: 0.3887 - val_accuracy: 0.8951\n",
            "Epoch 5/10\n",
            "501/501 [==============================] - 14s 27ms/step - loss: 0.0680 - accuracy: 0.9778 - val_loss: 0.3784 - val_accuracy: 0.8887\n",
            "Epoch 6/10\n",
            "501/501 [==============================] - 14s 27ms/step - loss: 0.0530 - accuracy: 0.9804 - val_loss: 0.4542 - val_accuracy: 0.8878\n",
            "Epoch 7/10\n",
            "501/501 [==============================] - 14s 27ms/step - loss: 0.0410 - accuracy: 0.9870 - val_loss: 0.3463 - val_accuracy: 0.9080\n",
            "Epoch 8/10\n",
            "501/501 [==============================] - 13s 26ms/step - loss: 0.0337 - accuracy: 0.9892 - val_loss: 0.4282 - val_accuracy: 0.9016\n",
            "Epoch 9/10\n",
            "501/501 [==============================] - 14s 27ms/step - loss: 0.0322 - accuracy: 0.9890 - val_loss: 0.2814 - val_accuracy: 0.9328\n",
            "Epoch 10/10\n",
            "501/501 [==============================] - 14s 27ms/step - loss: 0.0278 - accuracy: 0.9902 - val_loss: 0.3442 - val_accuracy: 0.9200\n",
            "Model: \"sentiment_analysis_model_16\"\n",
            "_________________________________________________________________\n",
            "Layer (type)                 Output Shape              Param #   \n",
            "=================================================================\n",
            "embedding_16 (Embedding)     multiple                  703731    \n",
            "_________________________________________________________________\n",
            "bidirectional_16 (Bidirectio multiple                  15624     \n",
            "_________________________________________________________________\n",
            "dense_32 (Dense)             multiple                  4032      \n",
            "_________________________________________________________________\n",
            "dense_33 (Dense)             multiple                  65        \n",
            "=================================================================\n",
            "Total params: 723,452\n",
            "Trainable params: 723,452\n",
            "Non-trainable params: 0\n",
            "_________________________________________________________________\n"
          ],
          "name": "stdout"
        }
      ]
    },
    {
      "cell_type": "markdown",
      "metadata": {
        "id": "pG7iGAzsa5IK",
        "colab_type": "text"
      },
      "source": [
        ""
      ]
    },
    {
      "cell_type": "code",
      "metadata": {
        "id": "TVMoCuFm5JQV",
        "colab_type": "code",
        "outputId": "f0996005-3923-49e5-f633-8e100b7e702b",
        "colab": {
          "base_uri": "https://localhost:8080/",
          "height": 34
        }
      },
      "source": [
        "print(logs_dir)"
      ],
      "execution_count": 0,
      "outputs": [
        {
          "output_type": "stream",
          "text": [
            "./logs\n"
          ],
          "name": "stdout"
        }
      ]
    },
    {
      "cell_type": "code",
      "metadata": {
        "id": "2c-CX2BYy1TZ",
        "colab_type": "code",
        "colab": {}
      },
      "source": [
        "best_model = SentimentAnalysisModel(vocab_size+1, max_seqlen)\n",
        "best_model.build(input_shape=(batch_size, max_seqlen))\n",
        "best_model.load_weights(best_model_file)\n",
        "best_model.compile(\n",
        " loss=\"binary_crossentropy\",\n",
        " optimizer=\"adam\",\n",
        " metrics=[\"accuracy\"]\n",
        ")"
      ],
      "execution_count": 0,
      "outputs": []
    },
    {
      "cell_type": "code",
      "metadata": {
        "id": "hNjnHemcy3WD",
        "colab_type": "code",
        "outputId": "03b3fa44-d691-40dc-d62b-cbde433300f3",
        "colab": {
          "base_uri": "https://localhost:8080/",
          "height": 51
        }
      },
      "source": [
        "test_loss, test_acc = best_model.evaluate(test_dataset)\n",
        "print(\"test loss: {:.3f}, test accuracy: {:.3f}\".format(\n",
        " test_loss, test_acc))"
      ],
      "execution_count": 0,
      "outputs": [
        {
          "output_type": "stream",
          "text": [
            "153/153 [==============================] - 1s 4ms/step - loss: 0.7385 - accuracy: 0.8127\n",
            "test loss: 0.739, test accuracy: 0.813\n"
          ],
          "name": "stdout"
        }
      ]
    },
    {
      "cell_type": "code",
      "metadata": {
        "id": "8d1K0jZdeZEf",
        "colab_type": "code",
        "outputId": "99fa821b-7947-456c-9a81-5649a05f5387",
        "colab": {
          "base_uri": "https://localhost:8080/",
          "height": 377
        }
      },
      "source": [
        "\n",
        "\n",
        "num_epochs = 10\n",
        "history = model.fit(train_dataset, epochs=num_epochs,\n",
        " validation_data=val_dataset,\n",
        " )"
      ],
      "execution_count": 0,
      "outputs": [
        {
          "output_type": "stream",
          "text": [
            "Epoch 1/10\n",
            "143/143 [==============================] - 5s 34ms/step - loss: 0.6009 - accuracy: 0.6662 - val_loss: 0.5033 - val_accuracy: 0.7574\n",
            "Epoch 2/10\n",
            "143/143 [==============================] - 4s 28ms/step - loss: 0.3145 - accuracy: 0.8654 - val_loss: 0.4045 - val_accuracy: 0.8225\n",
            "Epoch 3/10\n",
            "143/143 [==============================] - 4s 29ms/step - loss: 0.1542 - accuracy: 0.9392 - val_loss: 0.4874 - val_accuracy: 0.8146\n",
            "Epoch 4/10\n",
            "143/143 [==============================] - 4s 28ms/step - loss: 0.0876 - accuracy: 0.9702 - val_loss: 0.4377 - val_accuracy: 0.8698\n",
            "Epoch 5/10\n",
            "143/143 [==============================] - 4s 29ms/step - loss: 0.0657 - accuracy: 0.9812 - val_loss: 0.4802 - val_accuracy: 0.8718\n",
            "Epoch 6/10\n",
            "143/143 [==============================] - 4s 28ms/step - loss: 0.0551 - accuracy: 0.9823 - val_loss: 0.3094 - val_accuracy: 0.9053\n",
            "Epoch 7/10\n",
            "143/143 [==============================] - 4s 28ms/step - loss: 0.0406 - accuracy: 0.9895 - val_loss: 0.3874 - val_accuracy: 0.9014\n",
            "Epoch 8/10\n",
            "143/143 [==============================] - 4s 28ms/step - loss: 0.0480 - accuracy: 0.9866 - val_loss: 0.2728 - val_accuracy: 0.9329\n",
            "Epoch 9/10\n",
            "143/143 [==============================] - 4s 30ms/step - loss: 0.0320 - accuracy: 0.9888 - val_loss: 0.2808 - val_accuracy: 0.9211\n",
            "Epoch 10/10\n",
            "143/143 [==============================] - 4s 29ms/step - loss: 0.0292 - accuracy: 0.9904 - val_loss: 0.3134 - val_accuracy: 0.9329\n"
          ],
          "name": "stdout"
        }
      ]
    },
    {
      "cell_type": "code",
      "metadata": {
        "id": "UYFTaYUF2nps",
        "colab_type": "code",
        "outputId": "cfa7b526-a3ba-4e2d-d093-4a2385dc3bec",
        "colab": {
          "base_uri": "https://localhost:8080/",
          "height": 164
        }
      },
      "source": [
        "tensorboard --logdir /logs"
      ],
      "execution_count": 0,
      "outputs": [
        {
          "output_type": "error",
          "ename": "NameError",
          "evalue": "ignored",
          "traceback": [
            "\u001b[0;31m---------------------------------------------------------------------------\u001b[0m",
            "\u001b[0;31mNameError\u001b[0m                                 Traceback (most recent call last)",
            "\u001b[0;32m<ipython-input-157-5df4773c1b44>\u001b[0m in \u001b[0;36m<module>\u001b[0;34m()\u001b[0m\n\u001b[0;32m----> 1\u001b[0;31m \u001b[0mtensorboard\u001b[0m \u001b[0;34m-\u001b[0m\u001b[0;34m-\u001b[0m\u001b[0mlogdir\u001b[0m \u001b[0;34m/\u001b[0m\u001b[0mlogs\u001b[0m\u001b[0;34m\u001b[0m\u001b[0;34m\u001b[0m\u001b[0m\n\u001b[0m",
            "\u001b[0;31mNameError\u001b[0m: name 'logdir' is not defined"
          ]
        }
      ]
    },
    {
      "cell_type": "code",
      "metadata": {
        "id": "_f0jZOY7mfav",
        "colab_type": "code",
        "outputId": "feec2f21-0fde-41c8-be1c-3293def3b381",
        "colab": {
          "base_uri": "https://localhost:8080/",
          "height": 130
        }
      },
      "source": [
        "labels, predictions = [], []\n",
        "idx2word[0] = \"PAD\"\n",
        "is_first_batch = True\n",
        "for test_batch in test_dataset:\n",
        "    inputs_b, labels_b = test_batch\n",
        "    pred_batch = model.predict(inputs_b)\n",
        "    predictions.extend([(1 if p > 0.5 else 0) for p in pred_batch])\n",
        "    labels.extend([l for l in labels_b])\n",
        "    if is_first_batch:\n",
        "  # print first batch of label, prediction, and sentence\n",
        "      for rid in range(inputs_b.shape[0]):\n",
        "        words = [idx2word[idx] for idx in inputs_b[rid].numpy()]\n",
        "        words = [w for w in words if w != \"PAD\"]\n",
        "        sentence = \" \".join(words)\n",
        "        print(\"{:d}\\t{:d}\\t{:s}\".format(\n",
        "          labels[rid], predictions[rid], sentence))\n",
        "      is_first_batch = False\n",
        "print(\"accuracy score: {:.3f}\".format(accuracy_score(labels,\n",
        "predictions)))\n",
        "print(\"confusion matrix\")\n",
        "print(confusion_matrix(labels, predictions)"
      ],
      "execution_count": 0,
      "outputs": [
        {
          "output_type": "error",
          "ename": "SyntaxError",
          "evalue": "ignored",
          "traceback": [
            "\u001b[0;36m  File \u001b[0;32m\"<ipython-input-67-53a7d9212a3a>\"\u001b[0;36m, line \u001b[0;32m21\u001b[0m\n\u001b[0;31m    print(confusion_matrix(labels, predictions)\u001b[0m\n\u001b[0m                                               ^\u001b[0m\n\u001b[0;31mSyntaxError\u001b[0m\u001b[0;31m:\u001b[0m unexpected EOF while parsing\n"
          ]
        }
      ]
    },
    {
      "cell_type": "code",
      "metadata": {
        "id": "fCLHO0Twezkz",
        "colab_type": "code",
        "colab": {}
      },
      "source": [
        "pred=best_model.predict(pred_dataset)"
      ],
      "execution_count": 0,
      "outputs": []
    },
    {
      "cell_type": "code",
      "metadata": {
        "id": "xWCAPfFxlrAa",
        "colab_type": "code",
        "outputId": "b902f561-af6e-4e31-8bea-f5780c0f1d84",
        "colab": {
          "base_uri": "https://localhost:8080/",
          "height": 54
        }
      },
      "source": [
        "g=[]\n",
        "for n in pred:\n",
        "  if n>0.5:\n",
        "     g.append([1])\n",
        "\n",
        "  else:\n",
        "    g.append([0])\n",
        " \n",
        " \n",
        "\n",
        "print(\"p\", g)\n",
        "\n",
        "\n",
        "prediction=pd.DataFrame(g)"
      ],
      "execution_count": 0,
      "outputs": [
        {
          "output_type": "stream",
          "text": [
            "p [[1], [1], [1], [1], [1], [1], [0], [0], [0], [0], [0], [0], [1], [0], [0], [1], [0], [1], [0], [0], [0], [0], [0], [1], [0], [1], [0], [0], [0], [1], [0], [1], [1], [0], [1], [0], [0], [1], [0], [1], [0], [0], [0], [1], [0], [0], [0], [0], [1], [0], [0], [0], [1], [0], [0], [1], [0], [0], [0], [0], [1], [0], [0], [1], [0], [1], [1], [1], [1], [1], [0], [1], [1], [1], [1], [1], [0], [0], [0], [1], [0], [1], [1], [1], [1], [1], [0], [0], [1], [1], [0], [0], [0], [0], [0], [0], [0], [0], [0], [0], [0], [0], [0], [0], [0], [1], [1], [0], [1], [1], [1], [0], [0], [0], [1], [1], [1], [1], [1], [1], [1], [1], [1], [1], [0], [0], [0], [0], [0], [0], [0], [0], [1], [0], [0], [0], [0], [0], [0], [0], [0], [0], [1], [0], [1], [1], [1], [0], [0], [1], [0], [0], [0], [0], [0], [0], [0], [1], [0], [0], [0], [0], [0], [0], [0], [0], [1], [1], [1], [1], [0], [1], [1], [1], [1], [1], [1], [1], [1], [0], [1], [0], [1], [1], [1], [0], [0], [1], [1], [1], [1], [0], [1], [1], [0], [0], [1], [1], [0], [1], [1], [0], [0], [0], [1], [1], [0], [1], [0], [0], [0], [1], [0], [0], [1], [0], [0], [1], [1], [1], [1], [1], [0], [0], [0], [1], [0], [1], [1], [0], [0], [0], [0], [0], [0], [0], [1], [1], [1], [0], [0], [0], [0], [1], [1], [1], [0], [0], [0], [1], [0], [0], [0], [0], [0], [0], [1], [0], [0], [1], [1], [1], [1], [0], [1], [1], [0], [1], [0], [0], [1], [1], [1], [1], [0], [1], [0], [1], [1], [1], [0], [1], [0], [1], [1], [0], [0], [0], [1], [0], [0], [0], [0], [1], [1], [0], [1], [0], [1], [0], [0], [0], [0], [0], [1], [0], [0], [1], [1], [0], [0], [0], [1], [0], [0], [1], [1], [0], [1], [1], [0], [0], [0], [0], [0], [0], [0], [0], [0], [0], [0], [0], [0], [0], [0], [1], [0], [0], [0], [0], [0], [0], [0], [0], [1], [0], [0], [0], [0], [0], [0], [0], [1], [0], [1], [1], [0], [0], [0], [0], [0], [0], [0], [1], [0], [1], [0], [0], [0], [1], [0], [1], [1], [1], [1], [0], [0], [0], [0], [0], [0], [0], [0], [0], [0], [1], [0], [0], [0], [0], [0], [1], [0], [0], [0], [0], [1], [0], [0], [0], [0], [0], [1], [0], [0], [0], [0], [0], [1], [0], [1], [1], [0], [0], [0], [0], [1], [1], [0], [0], [0], [0], [0], [1], [1], [0], [0], [0], [0], [0], [0], [0], [0], [0], [0], [0], [0], [0], [0], [0], [0], [0], [0], [0], [0], [1], [0], [1], [0], [0], [0], [0], [0], [0], [0], [0], [0], [0], [0], [0], [0], [0], [0], [0], [0], [0], [0], [1], [0], [0], [1], [1], [0], [0], [0], [1], [0], [1], [1], [1], [0], [0], [0], [1], [0], [1], [0], [1], [0], [1], [1], [1], [1], [0], [0], [1], [0], [0], [1], [1], [1], [1], [1], [1], [1], [1], [1], [1], [1], [1], [1], [1], [0], [1], [1], [1], [1], [1], [1], [0], [1], [1], [1], [1], [1], [1], [0], [1], [1], [1], [0], [0], [0], [0], [0], [1], [1], [1], [0], [1], [1], [1], [1], [1], [1], [1], [0], [1], [1], [1], [1], [1], [1], [1], [1], [1], [1], [1], [1], [0], [0], [0], [1], [0], [0], [0], [1], [0], [0], [0], [1], [0], [0], [0], [0], [0], [0], [1], [0], [0], [1], [0], [0], [0], [0], [0], [0], [0], [0], [0], [1], [1], [0], [1], [1], [1], [1], [1], [1], [1], [1], [1], [0], [1], [1], [1], [1], [1], [1], [1], [0], [0], [1], [0], [1], [1], [0], [1], [1], [1], [1], [1], [1], [1], [0], [1], [0], [1], [1], [1], [0], [1], [1], [0], [1], [1], [1], [1], [0], [1], [1], [1], [1], [1], [0], [0], [1], [1], [0], [0], [0], [0], [0], [0], [1], [0], [0], [0], [0], [1], [0], [0], [1], [1], [1], [0], [0], [0], [1], [1], [1], [0], [1], [0], [0], [1], [1], [0], [0], [1], [1], [0], [0], [0], [1], [1], [1], [1], [1], [1], [0], [1], [1], [1], [1], [0], [0], [0], [0], [0], [1], [0], [0], [0], [1], [0], [0], [1], [1], [1], [0], [1], [0], [1], [1], [0], [1], [0], [1], [0], [0], [0], [1], [1], [1], [0], [1], [0], [0], [0], [0], [1], [0], [1], [0], [0], [1], [1], [1], [0], [0], [0], [0], [0], [0], [1], [0], [0], [0], [1], [0], [0], [0], [0], [1], [1], [0], [0], [0], [0], [0], [1], [0], [0], [0], [1], [1], [1], [1], [1], [0], [0], [0], [0], [0], [1], [1], [1], [1], [1], [1], [0], [1], [0], [1], [0], [0], [1], [0], [0], [1], [1], [1], [0], [0], [0], [1], [1], [1], [0], [1], [1], [1], [0], [1], [1], [1], [0], [0], [0], [1], [0], [0], [0], [1], [0], [0], [0], [0], [0], [1], [0], [0], [0], [0], [0], [0], [1], [0], [0], [0], [0], [0], [0], [0], [0], [0], [0], [0], [0], [0], [1], [0], [0], [0], [0], [0], [0], [0], [0], [0], [1], [0], [1], [1], [1], [1], [1], [1], [1], [1], [1], [0], [1], [1], [1], [1], [1], [1], [1], [1], [1], [1], [1], [1], [1], [0], [1], [1], [0], [0], [0], [0], [0], [1], [0], [0], [0], [1], [0], [1], [0], [0], [0], [0], [0], [0], [0], [0], [0], [0], [0], [0], [1], [0], [0], [0], [1], [1], [0], [1], [0], [0], [0], [0], [0], [0], [0], [0], [0], [1], [1], [0], [0], [0], [1], [0], [1], [1], [0], [1], [1], [1], [0], [1], [1], [1], [0], [1], [1], [1], [1], [1], [1], [1], [1], [1], [1], [1], [1], [1], [1], [1], [1], [0], [0], [0], [0], [0], [0], [0], [0], [0], [1], [0], [0], [1], [1], [1], [0], [1], [0], [0], [0], [0], [0], [0], [0], [0], [0], [0], [1], [1], [1], [1], [1], [1], [0], [0], [0], [0], [0], [0], [0], [0], [0], [0], [0], [0], [0], [1], [1], [0], [0], [0], [0], [0], [0], [1], [0], [0], [0], [1], [0], [0], [0], [0], [0], [0], [0], [0], [0], [1], [0], [0], [1], [0], [1], [0], [0], [1], [1], [0], [1], [0], [1], [0], [1], [1], [1], [0], [1], [1], [1], [0], [1], [1], [1], [1], [0], [1], [0], [1], [1], [1], [1], [1], [1], [1], [1], [1], [1], [1], [0], [1], [1], [1], [1], [1], [1], [1], [1], [1], [1], [1], [0], [0], [1], [1], [0], [1], [0], [0], [0], [0], [0], [1], [0], [1], [0], [0], [0], [0], [0], [0], [0], [0], [0], [0], [0], [1], [0], [0], [0], [0], [1], [0], [0], [0], [0], [0], [0], [0], [0], [0], [0], [0], [1], [0], [1], [1], [0], [0], [0], [1], [1], [1], [0], [1], [1], [0], [0], [0], [0], [1], [0], [0], [0], [0], [0], [1], [1], [0], [0], [0], [0], [1], [1], [0], [1], [1], [0], [0], [1], [1], [0], [0], [0], [0], [1], [0], [0], [0], [1], [0], [1], [1], [1], [0], [1], [0], [1], [1], [1], [1], [1], [1], [1], [0], [1], [1], [1], [0], [1], [1], [0], [0], [0], [0], [1], [1], [1], [0], [0], [0], [1], [0], [0], [0], [0], [1], [0], [0], [0], [1], [0], [0], [1], [1], [1], [1], [1], [1], [1], [1], [1], [1], [1], [1], [1], [1], [1], [1], [0], [0], [0], [0], [1], [1], [0], [0], [1], [1], [1], [1], [0], [1], [0], [0], [1], [0], [1], [0], [0], [1], [0], [1], [1], [1], [1], [1], [1], [1], [1], [1], [1], [1], [1], [1], [1], [0], [0], [0], [0], [0], [0], [0], [0], [0], [0], [0], [0], [0], [0], [0], [0], [0], [0], [0], [1], [1], [1], [1], [0], [1], [0], [1], [0], [1], [0], [1], [0], [1], [0], [0], [0], [0], [1], [0], [0], [0], [1], [1], [0], [1], [0], [1], [1], [1], [0], [1], [1], [0], [0], [1], [1], [1], [1], [1], [1], [1], [1], [1], [1], [1], [1], [0], [1], [1], [1], [1], [1], [0], [0], [0], [0], [0], [0], [0], [0], [0], [0], [1], [0], [0], [0], [0], [0], [0], [0], [1], [0], [1], [0], [0], [1], [0], [0], [0], [0], [0], [0], [0], [1], [0], [0], [1], [0], [0], [1], [0], [0], [1], [0], [1], [0], [1], [0], [1], [1], [1], [0], [1], [1], [0], [0], [0], [0], [0], [1], [1], [1], [1], [0], [1], [0], [1], [1], [1], [1], [0], [1], [0], [0], [0], [0], [1], [0], [0], [0], [1], [0], [0], [0], [0], [1], [0], [0], [0], [0], [0], [0], [1], [1], [0], [0], [1], [1], [1], [1], [1], [0], [0], [0], [0], [1], [1], [1], [1], [1], [1], [1], [1], [1], [1], [1], [1], [0], [1], [1], [0], [0], [0], [1], [1], [0], [1], [1], [0], [1], [1], [0], [1], [1], [1], [0], [0], [0], [1], [0], [0], [0], [0], [0], [0], [0], [0], [0], [1], [0], [0], [0], [0], [0], [1], [1], [1], [1], [0], [0], [0], [0], [1], [0], [1], [0], [0], [1], [1], [0], [1], [1], [0], [1], [0], [1], [0], [0], [1], [1], [0], [0], [1], [1], [0], [1], [1], [0], [0], [0], [0], [1], [1], [1], [1], [1], [0], [1], [1], [1], [1], [0], [1], [1], [1], [1], [1], [1], [1], [0], [0], [0], [1], [1], [1], [0], [1], [1], [1], [1], [0], [0], [0], [0], [0], [0], [0], [0], [0], [1], [0], [0], [0], [1], [0], [0], [1], [1], [0], [0], [1], [0], [0], [1], [0], [0], [0], [0], [1], [0], [1], [0], [0], [0], [0], [1], [1], [0], [1], [0], [1], [1], [1], [0], [1], [1], [1], [1], [1], [1], [1], [1], [1], [1], [0], [0], [1], [1], [1], [0], [1], [1], [1], [0], [0], [1], [1], [1], [0], [1], [0], [0], [1], [1], [1], [1], [1], [0], [0], [0], [0], [1], [1], [1], [0], [0], [0], [1], [0], [0], [0], [0], [0], [0], [0], [1], [0], [1], [1], [0], [0], [0], [1], [1], [1], [0], [0], [0], [1], [0], [0], [1], [1], [0], [0], [0], [1], [1], [1], [1], [1], [0], [1], [1], [0], [0], [0], [1], [1], [0], [0], [1], [1], [1], [1], [1], [0], [1], [1], [1], [1], [1], [1], [1], [1], [1], [1], [1], [1], [1], [1], [1], [1], [1], [1], [1], [1], [1], [1], [1], [1], [0], [1], [1], [0], [1], [1], [1], [0], [0], [1], [0], [1], [1], [1], [0], [0], [1], [0], [1], [1], [1], [1], [1], [1], [0], [0], [1], [1], [1], [1], [1], [1], [1], [1], [1], [0], [0], [0], [1], [0], [0], [0], [0], [0], [0], [0], [0], [1], [0], [0], [1], [1], [0], [1], [0], [1], [1], [0], [0], [0], [1], [1], [1], [1], [1], [1], [1], [1], [0], [0], [0], [0], [1], [1], [0], [1], [1], [1], [0], [0], [1], [0], [1], [1], [0], [1], [1], [0], [0], [1], [1], [1], [0], [0], [0], [0], [0], [0], [0], [0], [1], [0], [1], [1], [0], [1], [1], [1], [1], [1], [0], [1], [0], [0], [0], [0], [1], [1], [1], [1], [0], [0], [1], [1], [0], [1], [1], [0], [0], [1], [1], [1], [0], [0], [0], [1], [0], [1], [1], [0], [0], [0], [0], [1], [1], [0], [0], [1], [0], [0], [0], [0], [0], [0], [1], [1], [0], [1], [1], [1], [1], [1], [1], [1], [1], [0], [0], [0], [1], [0], [1], [1], [1], [1], [0], [1], [1], [1], [1], [1], [1], [1], [1], [0], [1], [1], [0], [1], [1], [0], [1], [1], [1], [0], [1], [1], [1], [1], [0], [1], [1], [1], [1], [1], [1], [1], [0], [1], [0], [1], [1], [1], [1], [1], [0], [0], [0], [0], [0], [1], [0], [1], [1], [0], [1], [0], [0], [1], [0], [0], [1], [1], [0], [0], [0], [1], [1], [0], [0], [0], [0], [1], [1], [0], [0], [1], [0], [0], [0], [0], [1], [0], [0], [0], [0], [1], [1], [1], [1], [0], [0], [1], [1], [0], [1], [1], [1], [1], [0], [1], [1], [0], [1], [0], [0], [1], [0], [1], [0], [0], [1], [0], [0], [0], [0], [0], [0], [0], [1], [0], [0], [0], [0], [1], [1], [1], [1], [0], [1], [0], [0], [0], [1], [0], [0], [1], [1], [1], [1], [0], [1], [1], [1], [0], [1], [1], [1], [0], [0], [0], [0], [0], [0], [0], [0], [1], [1], [1], [0], [1], [1], [1], [1], [1], [1], [1], [1], [0], [1], [1], [0], [1], [1], [1], [1], [1], [1], [0], [1], [0], [0], [1], [0], [1], [0], [1], [1], [0], [1], [1], [1], [1], [0], [1], [1], [1], [1], [1], [1], [1], [1], [0], [0], [0], [0], [0], [0], [1], [0], [0], [0], [0], [0], [0], [1], [1], [0], [0], [0], [0], [0], [0], [0], [0], [0], [0], [1], [0], [0], [0], [0], [1], [0], [0], [0], [0], [1], [0], [1], [0], [0], [1], [0], [0], [1], [0], [0], [0], [0], [1], [0], [1], [0], [0], [0], [1], [0], [0], [1], [0], [1], [0], [0], [1], [1], [0], [0], [1], [1], [0], [1], [0], [1], [1], [0], [1], [1], [0], [0], [1], [1], [1], [1], [1], [1], [1], [0], [1], [1], [0], [1], [1], [1], [1], [1], [1], [1], [1], [1], [1], [0], [1], [0], [1], [0], [1], [1], [0], [0], [0], [0], [1], [0], [0], [1], [1], [0], [0], [0], [0], [1], [1], [0], [0], [0], [0], [0], [0], [0], [0], [0], [0], [0], [0], [0], [0], [0], [1], [0], [1], [1], [0], [0], [0], [1], [0], [0], [0], [1], [1], [0], [0], [0], [0], [0], [1], [0], [0], [0], [0], [0], [1], [0], [0], [0], [0], [0], [0], [0], [0], [1], [0], [1], [1], [1], [1], [1], [1], [1], [1], [1], [1], [1], [1], [1], [1], [1], [1], [1], [1], [1], [1], [1], [1], [0], [1], [0], [1], [1], [0], [0], [0], [0], [1], [1], [0], [1], [0], [0], [0], [0], [0], [0], [0], [0], [0], [0], [0], [0], [0], [0], [1], [0], [0], [0], [0], [0], [0], [0], [1], [0], [1], [0], [0], [0], [0], [0], [1], [1], [0], [1], [1], [0], [1], [0], [0], [1], [1], [1], [1], [0], [0], [0], [0], [0], [0], [0], [0], [0], [1], [0], [0], [0], [0], [1], [0], [1], [1], [1], [0], [0], [1], [0], [1], [0], [0], [1], [1], [0], [1], [1], [1], [1], [1], [0], [0], [1], [1], [1], [0], [1], [1], [1], [0], [0], [1], [0], [0], [0], [0], [1], [1], [1], [0], [1], [0], [1], [1], [1], [1], [1], [0], [1], [1], [1], [0], [0], [0], [0], [0], [0], [1], [0], [0], [1], [1], [0], [1], [1], [1], [1], [0], [0], [0], [1], [1], [0], [0], [0], [1], [0], [0], [1], [1], [1], [1], [0], [1], [1], [1], [1], [1], [1], [1], [1], [1], [1], [1], [1], [1], [0], [1], [1], [1], [1], [1], [1], [1], [1], [1], [0], [1], [0], [0], [0], [0], [0], [1], [1], [0], [0], [0], [0], [0], [1], [1], [1], [1], [0], [1], [0], [0], [0], [1], [0], [1], [1], [0], [1], [0], [0], [1], [0], [1], [1], [1], [0], [1], [0], [0], [1], [0], [0], [1], [0], [1], [0], [1], [1], [1], [0], [1], [1], [0], [0], [0], [0], [0], [0], [0], [0], [0], [0], [0], [0], [0], [1], [1], [0], [1], [1], [1], [1], [1], [1], [1], [1], [1], [0], [0], [0], [0], [0], [0], [0], [0], [0], [1], [0], [0], [0], [0], [0], [0], [0], [1], [1], [1], [0], [0], [0], [0], [0], [1], [0], [1], [0], [0], [0], [1], [0], [0], [0], [0], [0], [0], [0], [0], [0], [0], [0], [0], [0], [0], [0], [0], [1], [0], [1], [0], [1], [0], [0], [0], [1], [1], [0], [1], [1], [1], [0], [0], [0], [1], [1], [0], [1], [1], [1], [0], [1], [1], [1], [1], [1], [1], [1], [0], [0], [0], [0], [0], [1], [0], [1], [0], [0], [0], [0], [0], [1], [0], [0], [0], [0], [1], [0], [0], [0], [0], [0], [0], [0], [0], [0], [0], [0], [1], [0], [0], [0], [0], [0], [0], [0], [0], [0], [0], [0], [0], [0], [0], [0], [0], [1], [0], [0], [0], [0], [0], [0], [0], [1], [1], [1], [0], [0], [1], [1], [1], [0], [0], [0], [0], [0], [1], [1], [0], [1], [1], [0], [1], [1], [0], [0], [1], [0], [1], [0], [1], [0], [1], [0], [1], [0], [0], [1], [1], [1], [0], [0], [1], [0], [0], [1], [0], [0], [0], [0], [0], [0], [0], [1], [0], [1], [1], [1], [1], [1], [1], [1], [0], [1], [1], [0], [1], [0], [1], [1], [0], [0], [1], [1], [1], [1], [1], [1], [1], [1], [0], [1], [1], [1], [1], [1], [1], [1], [1], [1], [1], [1], [1], [1], [1], [0], [1], [1], [1], [1], [1], [1], [1], [1], [1], [1], [1], [1], [1], [1], [1], [1], [1], [1], [1], [1], [1], [1], [1], [1], [1], [1], [0], [1], [1], [0], [0], [0], [0], [1], [0], [0], [0], [0], [0], [0], [0], [0], [0], [0], [1], [1], [1], [0], [0], [0], [0], [1], [1], [1], [0], [1], [1], [0], [0], [1], [0], [1], [1], [0], [1], [0], [0], [0], [0], [1], [1], [0], [1], [1], [1], [1], [0], [1], [1], [0], [1], [1], [1], [0], [0], [1], [1], [0], [0], [1], [1], [0], [1], [1], [1], [0], [0], [1], [1], [1], [1], [1], [1], [0], [1], [1], [1], [1], [1], [1], [1], [0], [1], [1], [1], [1], [1], [0], [1], [1], [1], [1], [0], [1], [0], [0], [1], [0], [1], [0], [1], [1], [0], [1], [0], [0], [0], [1], [1], [0], [1], [0], [0], [0], [1], [1], [1], [0], [1], [0], [1], [1], [0], [1], [1], [1], [1], [0], [1], [1], [0], [0], [1], [1], [0], [1], [1], [0], [1], [0], [1], [0], [0], [0], [0], [0], [1], [0], [0], [1], [1], [1], [0], [0], [1], [1], [1], [1], [1], [1], [0], [0], [0], [1], [1], [1], [0], [1], [1], [0], [0], [0], [1], [1], [0], [1], [0], [1], [0], [0], [1], [0], [1], [0], [0], [1], [1], [0], [0], [0], [1], [0], [1], [1], [1], [0], [0], [0], [0], [0], [0], [0], [0], [0], [0], [0], [1], [0], [0], [0], [0], [0], [0], [0], [0], [0], [0], [0], [1], [0], [0], [1], [0], [0], [0], [0], [1], [0], [0], [0], [0], [0], [0], [0], [0], [1], [0], [0], [0], [0], [1], [0], [1], [0], [1], [0], [0], [0], [0], [1], [0], [0], [0], [1], [0], [1], [1], [1], [1], [1], [1], [1], [1], [1], [1], [1], [1], [0], [0], [0], [1], [0], [0], [0], [0], [0], [0], [0], [0], [1], [1], [0], [1], [1], [1], [1], [1], [1], [0], [1], [1], [1], [1], [0], [1], [0], [0], [0], [1], [0], [1], [0], [1], [1], [1], [1], [0], [1], [1], [0], [1], [0], [0], [1], [0], [0], [1], [1], [0], [1], [1], [1], [0], [0], [0], [0], [0], [1], [0], [1], [1], [1], [0], [1], [1], [0], [0], [1], [1], [1], [0], [1], [1], [1], [1], [1], [0], [1], [1], [0], [0], [0], [0], [1], [0], [1], [1], [1], [1], [0], [1], [1], [0], [1], [1], [1], [1], [1], [1], [1], [1], [1], [1], [1], [1], [1], [1], [0], [1], [1], [0], [1], [1], [1], [1], [1], [1], [1], [1], [1], [1], [1], [1], [0], [0], [1], [1], [0], [0], [1], [0], [1], [1], [1], [0], [1], [1], [0], [0], [1], [1], [1], [1], [1], [0], [0], [0], [0], [0], [0], [0], [0], [1], [0], [0], [0], [1], [0], [1], [1], [0], [0], [0], [0], [0], [1], [0], [1], [0], [0], [0], [1], [0], [0], [1], [1], [1], [1], [1], [1], [1], [1], [1], [1], [1], [0], [0], [0], [0], [0], [0], [0], [0], [0], [0], [0], [1], [1], [1], [1], [0], [1], [1], [1], [1], [1], [1]]\n"
          ],
          "name": "stdout"
        }
      ]
    },
    {
      "cell_type": "code",
      "metadata": {
        "id": "vAvTBUwvmUh5",
        "colab_type": "code",
        "outputId": "4c86cba0-c128-4ace-e69b-8d01b224deca",
        "colab": {
          "base_uri": "https://localhost:8080/",
          "height": 221
        }
      },
      "source": [
        "df3.pop('target')"
      ],
      "execution_count": 0,
      "outputs": [
        {
          "output_type": "execute_result",
          "data": {
            "text/plain": [
              "0       0\n",
              "1       0\n",
              "2       0\n",
              "3       0\n",
              "4       0\n",
              "       ..\n",
              "3258    0\n",
              "3259    0\n",
              "3260    0\n",
              "3261    0\n",
              "3262    0\n",
              "Name: target, Length: 3263, dtype: int64"
            ]
          },
          "metadata": {
            "tags": []
          },
          "execution_count": 69
        }
      ]
    },
    {
      "cell_type": "code",
      "metadata": {
        "id": "IrcUpoDAmhI4",
        "colab_type": "code",
        "outputId": "54d7f707-8669-46c2-ab32-5483dc805eec",
        "colab": {
          "base_uri": "https://localhost:8080/",
          "height": 153
        }
      },
      "source": [
        "df3.info()"
      ],
      "execution_count": 0,
      "outputs": [
        {
          "output_type": "stream",
          "text": [
            "<class 'pandas.core.frame.DataFrame'>\n",
            "RangeIndex: 3263 entries, 0 to 3262\n",
            "Data columns (total 1 columns):\n",
            " #   Column  Non-Null Count  Dtype\n",
            "---  ------  --------------  -----\n",
            " 0   id      3263 non-null   int64\n",
            "dtypes: int64(1)\n",
            "memory usage: 25.6 KB\n"
          ],
          "name": "stdout"
        }
      ]
    },
    {
      "cell_type": "code",
      "metadata": {
        "id": "hxeTe7Yfmljo",
        "colab_type": "code",
        "colab": {}
      },
      "source": [
        "df3=pd.concat([df3['id'],prediction],axis=1)"
      ],
      "execution_count": 0,
      "outputs": []
    },
    {
      "cell_type": "code",
      "metadata": {
        "id": "rYlLCpCEmvqL",
        "colab_type": "code",
        "colab": {}
      },
      "source": [
        "df3.columns=['id','target']"
      ],
      "execution_count": 0,
      "outputs": []
    },
    {
      "cell_type": "code",
      "metadata": {
        "id": "ItIzm4Ism3DG",
        "colab_type": "code",
        "outputId": "13438851-4cc6-4c58-9a0f-236c7f17908d",
        "colab": {
          "base_uri": "https://localhost:8080/",
          "height": 204
        }
      },
      "source": [
        "df3.head()"
      ],
      "execution_count": 0,
      "outputs": [
        {
          "output_type": "execute_result",
          "data": {
            "text/html": [
              "<div>\n",
              "<style scoped>\n",
              "    .dataframe tbody tr th:only-of-type {\n",
              "        vertical-align: middle;\n",
              "    }\n",
              "\n",
              "    .dataframe tbody tr th {\n",
              "        vertical-align: top;\n",
              "    }\n",
              "\n",
              "    .dataframe thead th {\n",
              "        text-align: right;\n",
              "    }\n",
              "</style>\n",
              "<table border=\"1\" class=\"dataframe\">\n",
              "  <thead>\n",
              "    <tr style=\"text-align: right;\">\n",
              "      <th></th>\n",
              "      <th>id</th>\n",
              "      <th>target</th>\n",
              "    </tr>\n",
              "  </thead>\n",
              "  <tbody>\n",
              "    <tr>\n",
              "      <th>0</th>\n",
              "      <td>0</td>\n",
              "      <td>1</td>\n",
              "    </tr>\n",
              "    <tr>\n",
              "      <th>1</th>\n",
              "      <td>2</td>\n",
              "      <td>1</td>\n",
              "    </tr>\n",
              "    <tr>\n",
              "      <th>2</th>\n",
              "      <td>3</td>\n",
              "      <td>1</td>\n",
              "    </tr>\n",
              "    <tr>\n",
              "      <th>3</th>\n",
              "      <td>9</td>\n",
              "      <td>1</td>\n",
              "    </tr>\n",
              "    <tr>\n",
              "      <th>4</th>\n",
              "      <td>11</td>\n",
              "      <td>1</td>\n",
              "    </tr>\n",
              "  </tbody>\n",
              "</table>\n",
              "</div>"
            ],
            "text/plain": [
              "   id  target\n",
              "0   0       1\n",
              "1   2       1\n",
              "2   3       1\n",
              "3   9       1\n",
              "4  11       1"
            ]
          },
          "metadata": {
            "tags": []
          },
          "execution_count": 73
        }
      ]
    },
    {
      "cell_type": "code",
      "metadata": {
        "id": "2rXCBtjsm6qA",
        "colab_type": "code",
        "colab": {}
      },
      "source": [
        "df3.to_csv('f4text_classification_submission.csv',index=False)"
      ],
      "execution_count": 0,
      "outputs": []
    },
    {
      "cell_type": "code",
      "metadata": {
        "id": "qovTJNx_nD1l",
        "colab_type": "code",
        "colab": {}
      },
      "source": [
        ""
      ],
      "execution_count": 0,
      "outputs": []
    }
  ]
}